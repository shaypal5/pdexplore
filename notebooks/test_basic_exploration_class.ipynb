{
 "cells": [
  {
   "cell_type": "code",
   "execution_count": 1,
   "metadata": {},
   "outputs": [],
   "source": [
    "import pandas as pd"
   ]
  },
  {
   "cell_type": "code",
   "execution_count": 2,
   "metadata": {},
   "outputs": [],
   "source": [
    "from pdexplore.numeric import (\n",
    "    BasicNumericExploration,\n",
    ")"
   ]
  },
  {
   "cell_type": "markdown",
   "metadata": {},
   "source": [
    "# Checking precondition"
   ]
  },
  {
   "cell_type": "code",
   "execution_count": 3,
   "metadata": {},
   "outputs": [],
   "source": [
    "df = pd.DataFrame(\n",
    "    data=[\n",
    "        [23, 'Jo', 1],\n",
    "        [pow(2,64)-1, 'Bo', 4],\n",
    "        [82, 'Go', 65535],\n",
    "        [None, 'No', 1],\n",
    "    ],\n",
    "    columns=['age', 'name', 'rank']\n",
    ")"
   ]
  },
  {
   "cell_type": "code",
   "execution_count": 4,
   "metadata": {},
   "outputs": [
    {
     "data": {
      "text/html": [
       "<div>\n",
       "<style scoped>\n",
       "    .dataframe tbody tr th:only-of-type {\n",
       "        vertical-align: middle;\n",
       "    }\n",
       "\n",
       "    .dataframe tbody tr th {\n",
       "        vertical-align: top;\n",
       "    }\n",
       "\n",
       "    .dataframe thead th {\n",
       "        text-align: right;\n",
       "    }\n",
       "</style>\n",
       "<table border=\"1\" class=\"dataframe\">\n",
       "  <thead>\n",
       "    <tr style=\"text-align: right;\">\n",
       "      <th></th>\n",
       "      <th>age</th>\n",
       "      <th>name</th>\n",
       "      <th>rank</th>\n",
       "    </tr>\n",
       "  </thead>\n",
       "  <tbody>\n",
       "    <tr>\n",
       "      <th>0</th>\n",
       "      <td>2.300000e+01</td>\n",
       "      <td>Jo</td>\n",
       "      <td>1</td>\n",
       "    </tr>\n",
       "    <tr>\n",
       "      <th>1</th>\n",
       "      <td>1.844674e+19</td>\n",
       "      <td>Bo</td>\n",
       "      <td>4</td>\n",
       "    </tr>\n",
       "    <tr>\n",
       "      <th>2</th>\n",
       "      <td>8.200000e+01</td>\n",
       "      <td>Go</td>\n",
       "      <td>65535</td>\n",
       "    </tr>\n",
       "    <tr>\n",
       "      <th>3</th>\n",
       "      <td>NaN</td>\n",
       "      <td>No</td>\n",
       "      <td>1</td>\n",
       "    </tr>\n",
       "  </tbody>\n",
       "</table>\n",
       "</div>"
      ],
      "text/plain": [
       "            age name   rank\n",
       "0  2.300000e+01   Jo      1\n",
       "1  1.844674e+19   Bo      4\n",
       "2  8.200000e+01   Go  65535\n",
       "3           NaN   No      1"
      ]
     },
     "execution_count": 4,
     "metadata": {},
     "output_type": "execute_result"
    }
   ],
   "source": [
    "df"
   ]
  },
  {
   "cell_type": "code",
   "execution_count": 5,
   "metadata": {},
   "outputs": [],
   "source": [
    "bexp = BasicNumericExploration()"
   ]
  },
  {
   "cell_type": "code",
   "execution_count": 6,
   "metadata": {},
   "outputs": [
    {
     "name": "stdout",
     "output_type": "stream",
     "text": [
      "\u001b[38;5;244mBasic numeric exploration skipped. Reason: Less than four non-null values.\u001b[0m\n"
     ]
    }
   ],
   "source": [
    "bexp.apply(df['age'])"
   ]
  },
  {
   "cell_type": "code",
   "execution_count": 7,
   "metadata": {},
   "outputs": [
    {
     "name": "stdout",
     "output_type": "stream",
     "text": [
      "\n",
      "--- Starting numeric data exploration ---\n",
      "Data min=1.00, max=65,535.00.\n",
      "Data mean is 16,385.25, std is 32,766.50\n",
      "It's also usefull to examine the two corresponding outlier-robust stats:\n",
      "Median=2.50, median absolute deviation (MAD)=2.22.\n",
      "Data skewness is 1.15. For normally distributed data, the skewness should be about 0. A skewness value > 0 means that there is more weight in the left tail of the distribution.\n"
     ]
    }
   ],
   "source": [
    "bexp.apply(df['rank'])"
   ]
  },
  {
   "cell_type": "markdown",
   "metadata": {},
   "source": [
    "# Checking the pipeline"
   ]
  },
  {
   "cell_type": "code",
   "execution_count": 8,
   "metadata": {},
   "outputs": [],
   "source": [
    "from pdexplore.numeric import (\n",
    "    run_numeric_exploration_pipeline,\n",
    ")"
   ]
  },
  {
   "cell_type": "code",
   "execution_count": 9,
   "metadata": {},
   "outputs": [
    {
     "name": "stdout",
     "output_type": "stream",
     "text": [
      "\n",
      "--- Starting numeric data exploration ---\n",
      "Data min=1.00, max=65,535.00.\n",
      "Data mean is 16,385.25, std is 32,766.50\n",
      "It's also usefull to examine the two corresponding outlier-robust stats:\n",
      "Median=2.50, median absolute deviation (MAD)=2.22.\n",
      "Data skewness is 1.15. For normally distributed data, the skewness should be about 0. A skewness value > 0 means that there is more weight in the left tail of the distribution.\n",
      "\u001b[38;5;244mSkewness test skipped. Reason: Less than eight non-null values.\u001b[0m\n",
      "Performing the Shapiro-Wilk test for normality...\n",
      "Null hypothesis (H0): The data comes from a normal dist.\n",
      "Test statistic: 0.630 p-value: 0.001\n",
      "The p-value is smaller than the set α; the null hypothesis can be rejected: the data isn't normally distributed.\n",
      "\u001b[38;5;244mD’Agostino’s K^2 normality test skipped. Reason: Less than eight non-null values.\u001b[0m\n",
      "\u001b[38;5;3m65,535 found 1 times. It is suspicious, as it is exactly 2^16-1; i.e. the highest number that can be represented by an unsigned 16-bit binary number. It is therefore the max value for variables declared as integers in many programming language. The appearance of the number may reflect an error, overflow condition or missing value.\u001b[0m\n"
     ]
    }
   ],
   "source": [
    "run_numeric_exploration_pipeline(df['rank'])"
   ]
  },
  {
   "cell_type": "markdown",
   "metadata": {},
   "source": [
    "# Try the whole thing"
   ]
  },
  {
   "cell_type": "code",
   "execution_count": 10,
   "metadata": {},
   "outputs": [],
   "source": [
    "from pdexplore import explore, explore_series"
   ]
  },
  {
   "cell_type": "code",
   "execution_count": 11,
   "metadata": {},
   "outputs": [
    {
     "name": "stdout",
     "output_type": "stream",
     "text": [
      "Starting to explore a dataframe with pdexplore.\n",
      "The dataframe contains 3 columns.\n",
      "The dataframe contains 4 rows.\n",
      "\u001b[1m\n",
      "=================== age =============================\u001b[0m\n",
      "Starting to explore series age with pdexplore.\n",
      "dtype: float64\n",
      "4 unique values over 4 entries.\n",
      "25.00% missing values (1).\n",
      "\u001b[38;5;244mValue counts plot skipped. Reason: Low frequency of most-frequent value.\u001b[0m\n",
      "\u001b[38;5;244mBasic numeric exploration skipped. Reason: Less than four non-null values.\u001b[0m\n",
      "\u001b[38;5;244mSkewness test skipped. Reason: Less than eight non-null values.\u001b[0m\n",
      "\u001b[38;5;244mShapiro-Wilk normality test skipped. Reason: Less than three non-null values.\u001b[0m\n",
      "\u001b[38;5;244mD’Agostino’s K^2 normality test skipped. Reason: Less than eight non-null values.\u001b[0m\n",
      "\u001b[38;5;3m18,446,744,073,709,551,615 found 1 times. It is suspicious, as it is exactly 2^64-1; i.e. the highest number that can be represented by an unsigned 64-bit binary number. It is therefore the max value for variables declared as integers in many programming language. The appearance of the number may reflect an error, overflow condition or missing value.\u001b[0m\n",
      "\u001b[1m\n",
      "=================== name =============================\u001b[0m\n",
      "Starting to explore series name with pdexplore.\n",
      "dtype: object\n",
      "4 unique values over 4 entries.\n",
      "0.00% missing values (0).\n",
      "\u001b[38;5;244mValue counts plot skipped. Reason: Low frequency of most-frequent value.\u001b[0m\n",
      "\u001b[38;5;244mBasic numeric exploration skipped. Reason: dtype is non-numeric.\u001b[0m\n",
      "\u001b[38;5;244mSkewness test skipped. Reason: Less than eight non-null values.\u001b[0m\n",
      "\u001b[38;5;244mShapiro-Wilk normality test skipped. Reason: dtype is non-numeric.\u001b[0m\n",
      "\u001b[38;5;244mD’Agostino’s K^2 normality test skipped. Reason: Less than eight non-null values.\u001b[0m\n",
      "\u001b[38;5;244mSuspicious numers check skipped. Reason: dtype is non-numeric.\u001b[0m\n",
      "\u001b[1m\n",
      "=================== rank =============================\u001b[0m\n",
      "Starting to explore series rank with pdexplore.\n",
      "dtype: int64\n",
      "3 unique values over 4 entries.\n",
      "0.00% missing values (0).\n",
      "\u001b[38;5;244mValue counts plot skipped. Reason: Low frequency of most-frequent value.\u001b[0m\n",
      "\n",
      "--- Starting numeric data exploration ---\n",
      "Data min=1.00, max=65,535.00.\n",
      "Data mean is 16,385.25, std is 32,766.50\n",
      "It's also usefull to examine the two corresponding outlier-robust stats:\n",
      "Median=2.50, median absolute deviation (MAD)=2.22.\n",
      "Data skewness is 1.15. For normally distributed data, the skewness should be about 0. A skewness value > 0 means that there is more weight in the left tail of the distribution.\n",
      "\u001b[38;5;244mSkewness test skipped. Reason: Less than eight non-null values.\u001b[0m\n",
      "Performing the Shapiro-Wilk test for normality...\n",
      "Null hypothesis (H0): The data comes from a normal dist.\n",
      "Test statistic: 0.630 p-value: 0.001\n",
      "The p-value is smaller than the set α; the null hypothesis can be rejected: the data isn't normally distributed.\n",
      "\u001b[38;5;244mD’Agostino’s K^2 normality test skipped. Reason: Less than eight non-null values.\u001b[0m\n",
      "\u001b[38;5;3m65,535 found 1 times. It is suspicious, as it is exactly 2^16-1; i.e. the highest number that can be represented by an unsigned 16-bit binary number. It is therefore the max value for variables declared as integers in many programming language. The appearance of the number may reflect an error, overflow condition or missing value.\u001b[0m\n"
     ]
    }
   ],
   "source": [
    "explore(df)"
   ]
  },
  {
   "cell_type": "code",
   "execution_count": null,
   "metadata": {},
   "outputs": [],
   "source": []
  }
 ],
 "metadata": {
  "kernelspec": {
   "display_name": "pdexplore",
   "language": "python",
   "name": "pdexplore"
  },
  "language_info": {
   "codemirror_mode": {
    "name": "ipython",
    "version": 3
   },
   "file_extension": ".py",
   "mimetype": "text/x-python",
   "name": "python",
   "nbconvert_exporter": "python",
   "pygments_lexer": "ipython3",
   "version": "3.6.5"
  }
 },
 "nbformat": 4,
 "nbformat_minor": 2
}
